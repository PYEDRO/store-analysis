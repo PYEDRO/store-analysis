{
 "cells": [
  {
   "cell_type": "markdown",
   "metadata": {},
   "source": [
    "# Analyzing Adidas store dataset"
   ]
  },
  {
   "cell_type": "markdown",
   "metadata": {},
   "source": [
    "## Imports "
   ]
  },
  {
   "cell_type": "code",
   "execution_count": 1,
   "metadata": {},
   "outputs": [],
   "source": [
    "import pandas as pd\n",
    "import numpy as np\n",
    "import matplotlib.pyplot as plt\n",
    "import matplotlib.animation as animation\n",
    "import seaborn as sns\n",
    "import sqlite3\n",
    "from sklearn.ensemble import RandomForestRegressor\n",
    "from sklearn.ensemble import RandomForestClassifier\n",
    "from sklearn.metrics import accuracy_score, classification_report\n",
    "from sklearn.model_selection import train_test_split, cross_val_score\n",
    "from sklearn.metrics import mean_squared_error, r2_score\n",
    "from sklearn.model_selection import learning_curve\n",
    "from sklearn.ensemble import RandomForestClassifier\n"
   ]
  },
  {
   "cell_type": "markdown",
   "metadata": {},
   "source": [
    "## Read Data"
   ]
  },
  {
   "cell_type": "code",
   "execution_count": 2,
   "metadata": {},
   "outputs": [
    {
     "data": {
      "text/html": [
       "<div>\n",
       "<style scoped>\n",
       "    .dataframe tbody tr th:only-of-type {\n",
       "        vertical-align: middle;\n",
       "    }\n",
       "\n",
       "    .dataframe tbody tr th {\n",
       "        vertical-align: top;\n",
       "    }\n",
       "\n",
       "    .dataframe thead th {\n",
       "        text-align: right;\n",
       "    }\n",
       "</style>\n",
       "<table border=\"1\" class=\"dataframe\">\n",
       "  <thead>\n",
       "    <tr style=\"text-align: right;\">\n",
       "      <th></th>\n",
       "      <th>country_code</th>\n",
       "      <th>currency</th>\n",
       "      <th>shoe_metric</th>\n",
       "    </tr>\n",
       "  </thead>\n",
       "  <tbody>\n",
       "    <tr>\n",
       "      <th>0</th>\n",
       "      <td>DE</td>\n",
       "      <td>euro</td>\n",
       "      <td>eu</td>\n",
       "    </tr>\n",
       "    <tr>\n",
       "      <th>1</th>\n",
       "      <td>US</td>\n",
       "      <td>usd</td>\n",
       "      <td>usa</td>\n",
       "    </tr>\n",
       "    <tr>\n",
       "      <th>2</th>\n",
       "      <td>BE</td>\n",
       "      <td>euro</td>\n",
       "      <td>eu</td>\n",
       "    </tr>\n",
       "    <tr>\n",
       "      <th>3</th>\n",
       "      <td>UK</td>\n",
       "      <td>pounds</td>\n",
       "      <td>uk</td>\n",
       "    </tr>\n",
       "  </tbody>\n",
       "</table>\n",
       "</div>"
      ],
      "text/plain": [
       "  country_code currency shoe_metric\n",
       "0           DE     euro          eu\n",
       "1           US      usd         usa\n",
       "2           BE     euro          eu\n",
       "3           UK   pounds          uk"
      ]
     },
     "execution_count": 2,
     "metadata": {},
     "output_type": "execute_result"
    }
   ],
   "source": [
    "\n",
    "df1 = pd.read_csv('country_dim.csv')\n",
    "df2 = pd.read_csv('shoes_dim.csv')\n",
    "df3 = pd.read_csv('shoes_fact.csv')\n",
    "\n",
    "df1.head()\n"
   ]
  },
  {
   "cell_type": "code",
   "execution_count": 3,
   "metadata": {},
   "outputs": [
    {
     "data": {
      "text/html": [
       "<div>\n",
       "<style scoped>\n",
       "    .dataframe tbody tr th:only-of-type {\n",
       "        vertical-align: middle;\n",
       "    }\n",
       "\n",
       "    .dataframe tbody tr th {\n",
       "        vertical-align: top;\n",
       "    }\n",
       "\n",
       "    .dataframe thead th {\n",
       "        text-align: right;\n",
       "    }\n",
       "</style>\n",
       "<table border=\"1\" class=\"dataframe\">\n",
       "  <thead>\n",
       "    <tr style=\"text-align: right;\">\n",
       "      <th></th>\n",
       "      <th>id</th>\n",
       "      <th>name</th>\n",
       "      <th>best_for_wear</th>\n",
       "      <th>gender</th>\n",
       "      <th>image_url</th>\n",
       "      <th>dominant_color</th>\n",
       "      <th>sub_color1</th>\n",
       "      <th>sub_color2</th>\n",
       "    </tr>\n",
       "  </thead>\n",
       "  <tbody>\n",
       "    <tr>\n",
       "      <th>0</th>\n",
       "      <td>HP9426</td>\n",
       "      <td>Breaknet 2.0 Schuh</td>\n",
       "      <td>City</td>\n",
       "      <td>U</td>\n",
       "      <td>https://assets.adidas.com/images/w_600,f_auto,...</td>\n",
       "      <td>Cloud White</td>\n",
       "      <td>Core Black</td>\n",
       "      <td>Cloud White</td>\n",
       "    </tr>\n",
       "    <tr>\n",
       "      <th>1</th>\n",
       "      <td>HQ4199</td>\n",
       "      <td>Ultraboost 1.0 Laufschuh</td>\n",
       "      <td>City</td>\n",
       "      <td>U</td>\n",
       "      <td>https://assets.adidas.com/images/w_600,f_auto,...</td>\n",
       "      <td>Core Black</td>\n",
       "      <td>Core Black</td>\n",
       "      <td>Beam Green</td>\n",
       "    </tr>\n",
       "    <tr>\n",
       "      <th>2</th>\n",
       "      <td>JQ2552</td>\n",
       "      <td>Adizero Boston 12 Laufschuh</td>\n",
       "      <td>Racing</td>\n",
       "      <td>U</td>\n",
       "      <td>https://assets.adidas.com/images/w_600,f_auto,...</td>\n",
       "      <td>Cloud White</td>\n",
       "      <td>Core Black</td>\n",
       "      <td>Lucid Red</td>\n",
       "    </tr>\n",
       "    <tr>\n",
       "      <th>3</th>\n",
       "      <td>JI1896</td>\n",
       "      <td>NY 90 Schuh</td>\n",
       "      <td>Neutral</td>\n",
       "      <td>U</td>\n",
       "      <td>https://assets.adidas.com/images/w_600,f_auto,...</td>\n",
       "      <td>Cloud White</td>\n",
       "      <td>Cloud White</td>\n",
       "      <td>Crystal White</td>\n",
       "    </tr>\n",
       "    <tr>\n",
       "      <th>4</th>\n",
       "      <td>IE8976</td>\n",
       "      <td>Ultraboost 1.0 Laufschuh</td>\n",
       "      <td>Neutral</td>\n",
       "      <td>U</td>\n",
       "      <td>https://assets.adidas.com/images/w_600,f_auto,...</td>\n",
       "      <td>Grey One</td>\n",
       "      <td>Grey Three</td>\n",
       "      <td>Grey One</td>\n",
       "    </tr>\n",
       "  </tbody>\n",
       "</table>\n",
       "</div>"
      ],
      "text/plain": [
       "       id                         name best_for_wear gender  \\\n",
       "0  HP9426           Breaknet 2.0 Schuh          City      U   \n",
       "1  HQ4199     Ultraboost 1.0 Laufschuh          City      U   \n",
       "2  JQ2552  Adizero Boston 12 Laufschuh        Racing      U   \n",
       "3  JI1896                  NY 90 Schuh       Neutral      U   \n",
       "4  IE8976     Ultraboost 1.0 Laufschuh       Neutral      U   \n",
       "\n",
       "                                           image_url dominant_color  \\\n",
       "0  https://assets.adidas.com/images/w_600,f_auto,...    Cloud White   \n",
       "1  https://assets.adidas.com/images/w_600,f_auto,...     Core Black   \n",
       "2  https://assets.adidas.com/images/w_600,f_auto,...    Cloud White   \n",
       "3  https://assets.adidas.com/images/w_600,f_auto,...    Cloud White   \n",
       "4  https://assets.adidas.com/images/w_600,f_auto,...       Grey One   \n",
       "\n",
       "    sub_color1     sub_color2  \n",
       "0   Core Black    Cloud White  \n",
       "1   Core Black     Beam Green  \n",
       "2   Core Black      Lucid Red  \n",
       "3  Cloud White  Crystal White  \n",
       "4   Grey Three       Grey One  "
      ]
     },
     "execution_count": 3,
     "metadata": {},
     "output_type": "execute_result"
    }
   ],
   "source": [
    "df2.head()"
   ]
  },
  {
   "cell_type": "code",
   "execution_count": 4,
   "metadata": {},
   "outputs": [
    {
     "data": {
      "text/html": [
       "<div>\n",
       "<style scoped>\n",
       "    .dataframe tbody tr th:only-of-type {\n",
       "        vertical-align: middle;\n",
       "    }\n",
       "\n",
       "    .dataframe tbody tr th {\n",
       "        vertical-align: top;\n",
       "    }\n",
       "\n",
       "    .dataframe thead th {\n",
       "        text-align: right;\n",
       "    }\n",
       "</style>\n",
       "<table border=\"1\" class=\"dataframe\">\n",
       "  <thead>\n",
       "    <tr style=\"text-align: right;\">\n",
       "      <th></th>\n",
       "      <th>Unnamed: 0</th>\n",
       "      <th>id</th>\n",
       "      <th>price</th>\n",
       "      <th>category</th>\n",
       "      <th>size</th>\n",
       "      <th>availability</th>\n",
       "      <th>date</th>\n",
       "      <th>country_code</th>\n",
       "    </tr>\n",
       "  </thead>\n",
       "  <tbody>\n",
       "    <tr>\n",
       "      <th>0</th>\n",
       "      <td>63575</td>\n",
       "      <td>HP9426</td>\n",
       "      <td>60.0</td>\n",
       "      <td>sneakers</td>\n",
       "      <td>36</td>\n",
       "      <td>0</td>\n",
       "      <td>07/01/2025</td>\n",
       "      <td>DE</td>\n",
       "    </tr>\n",
       "    <tr>\n",
       "      <th>1</th>\n",
       "      <td>63576</td>\n",
       "      <td>HP9426</td>\n",
       "      <td>60.0</td>\n",
       "      <td>sneakers</td>\n",
       "      <td>36 2/3</td>\n",
       "      <td>0</td>\n",
       "      <td>07/01/2025</td>\n",
       "      <td>DE</td>\n",
       "    </tr>\n",
       "    <tr>\n",
       "      <th>2</th>\n",
       "      <td>63577</td>\n",
       "      <td>HP9426</td>\n",
       "      <td>60.0</td>\n",
       "      <td>sneakers</td>\n",
       "      <td>37 1/3</td>\n",
       "      <td>0</td>\n",
       "      <td>07/01/2025</td>\n",
       "      <td>DE</td>\n",
       "    </tr>\n",
       "    <tr>\n",
       "      <th>3</th>\n",
       "      <td>63578</td>\n",
       "      <td>HP9426</td>\n",
       "      <td>60.0</td>\n",
       "      <td>sneakers</td>\n",
       "      <td>38</td>\n",
       "      <td>0</td>\n",
       "      <td>07/01/2025</td>\n",
       "      <td>DE</td>\n",
       "    </tr>\n",
       "    <tr>\n",
       "      <th>4</th>\n",
       "      <td>63579</td>\n",
       "      <td>HP9426</td>\n",
       "      <td>60.0</td>\n",
       "      <td>sneakers</td>\n",
       "      <td>38 2/3</td>\n",
       "      <td>1</td>\n",
       "      <td>07/01/2025</td>\n",
       "      <td>DE</td>\n",
       "    </tr>\n",
       "  </tbody>\n",
       "</table>\n",
       "</div>"
      ],
      "text/plain": [
       "   Unnamed: 0      id  price  category    size  availability        date  \\\n",
       "0       63575  HP9426   60.0  sneakers      36             0  07/01/2025   \n",
       "1       63576  HP9426   60.0  sneakers  36 2/3             0  07/01/2025   \n",
       "2       63577  HP9426   60.0  sneakers  37 1/3             0  07/01/2025   \n",
       "3       63578  HP9426   60.0  sneakers      38             0  07/01/2025   \n",
       "4       63579  HP9426   60.0  sneakers  38 2/3             1  07/01/2025   \n",
       "\n",
       "  country_code  \n",
       "0           DE  \n",
       "1           DE  \n",
       "2           DE  \n",
       "3           DE  \n",
       "4           DE  "
      ]
     },
     "execution_count": 4,
     "metadata": {},
     "output_type": "execute_result"
    }
   ],
   "source": [
    "\n",
    "df3.head()"
   ]
  },
  {
   "cell_type": "code",
   "execution_count": 5,
   "metadata": {},
   "outputs": [
    {
     "data": {
      "text/plain": [
       "299156"
      ]
     },
     "execution_count": 5,
     "metadata": {},
     "output_type": "execute_result"
    }
   ],
   "source": [
    "conn = sqlite3.connect(':memory:')\n",
    "cursor = conn.cursor()\n",
    "\n",
    "df1.to_sql('tabela1', conn, index=False, if_exists='replace')\n",
    "df2.to_sql('tabela2', conn, index=False, if_exists='replace')\n",
    "df3.to_sql('tabela3', conn, index=False, if_exists='replace')\n"
   ]
  },
  {
   "cell_type": "markdown",
   "metadata": {},
   "source": [
    "## Analyzing dataset"
   ]
  },
  {
   "cell_type": "code",
   "execution_count": 6,
   "metadata": {},
   "outputs": [
    {
     "name": "stdout",
     "output_type": "stream",
     "text": [
      "Estrutura original da tabela3:\n",
      "(0, 'Unnamed: 0', 'INTEGER', 0, None, 0)\n",
      "(1, 'id', 'TEXT', 0, None, 0)\n",
      "(2, 'price', 'REAL', 0, None, 0)\n",
      "(3, 'category', 'TEXT', 0, None, 0)\n",
      "(4, 'size', 'TEXT', 0, None, 0)\n",
      "(5, 'availability', 'INTEGER', 0, None, 0)\n",
      "(6, 'date', 'TEXT', 0, None, 0)\n",
      "(7, 'country_code', 'TEXT', 0, None, 0)\n",
      "\n",
      "Nova estrutura da tabela3:\n",
      "(0, 'id', 'TEXT', 0, None, 0)\n",
      "(1, 'price', 'REAL', 0, None, 0)\n",
      "(2, 'category', 'TEXT', 0, None, 0)\n",
      "(3, 'size', 'TEXT', 0, None, 0)\n",
      "(4, 'availability', 'INT', 0, None, 0)\n",
      "(5, 'date', 'TEXT', 0, None, 0)\n",
      "(6, 'country_code', 'TEXT', 0, None, 0)\n"
     ]
    }
   ],
   "source": [
    "\n",
    "cursor.execute(\"PRAGMA table_info(tabela3);\")\n",
    "colunas = cursor.fetchall()\n",
    "print(\"Estrutura original da tabela3:\")\n",
    "for coluna in colunas:\n",
    "    print(coluna)\n",
    "\n",
    "colunas_para_manter = [col[1] for col in colunas if col[1] != \"Unnamed: 0\"]\n",
    "colunas_para_manter_str = \", \".join(colunas_para_manter)\n",
    "\n",
    "cursor.execute(f\"CREATE TABLE tabela3_nova AS SELECT {colunas_para_manter_str} FROM tabela3;\")\n",
    "conn.commit()\n",
    "\n",
    "cursor.execute(\"DROP TABLE tabela3;\")\n",
    "conn.commit()\n",
    "\n",
    "cursor.execute(\"ALTER TABLE tabela3_nova RENAME TO tabela3;\")\n",
    "conn.commit()\n",
    "\n",
    "cursor.execute(\"PRAGMA table_info(tabela3);\")\n",
    "nova_estrutura = cursor.fetchall()\n",
    "print(\"\\nNova estrutura da tabela3:\")\n",
    "for coluna in nova_estrutura:\n",
    "    print(coluna)\n"
   ]
  },
  {
   "cell_type": "code",
   "execution_count": 7,
   "metadata": {},
   "outputs": [
    {
     "name": "stdout",
     "output_type": "stream",
     "text": [
      "  country_code  total_registros\n",
      "0           DE           216202\n",
      "1           US            53368\n",
      "2           BE            26453\n",
      "3           UK             3133\n"
     ]
    }
   ],
   "source": [
    "consulta = '''\n",
    "SELECT country_code, COUNT(*) as total_registros\n",
    "FROM tabela3\n",
    "GROUP BY country_code\n",
    "ORDER BY total_registros DESC;\n",
    "'''\n",
    "\n",
    "df_contagem_pais = pd.read_sql_query(consulta, conn)\n",
    "print(df_contagem_pais)\n"
   ]
  },
  {
   "cell_type": "code",
   "execution_count": 8,
   "metadata": {},
   "outputs": [],
   "source": [
    "colunas_para_manter = [col[1] for col in colunas if col[1] != \"Unnamed: 0\"]\n",
    "colunas_para_manter_str = \", \".join(colunas_para_manter)\n",
    "\n",
    "\n",
    "cursor.execute(f\"CREATE TABLE tabela3_nova AS SELECT {colunas_para_manter_str} FROM tabela3;\")\n",
    "conn.commit()"
   ]
  },
  {
   "cell_type": "code",
   "execution_count": 9,
   "metadata": {},
   "outputs": [],
   "source": [
    "cursor.execute(\"DROP TABLE tabela3;\")\n",
    "conn.commit()\n",
    "\n",
    "cursor.execute(\"ALTER TABLE tabela3_nova RENAME TO tabela3;\")\n",
    "conn.commit()\n"
   ]
  },
  {
   "cell_type": "code",
   "execution_count": 10,
   "metadata": {},
   "outputs": [
    {
     "name": "stdout",
     "output_type": "stream",
     "text": [
      "\n",
      "Nova estrutura da tabela3:\n",
      "(0, 'id', 'TEXT', 0, None, 0)\n",
      "(1, 'price', 'REAL', 0, None, 0)\n",
      "(2, 'category', 'TEXT', 0, None, 0)\n",
      "(3, 'size', 'TEXT', 0, None, 0)\n",
      "(4, 'availability', 'INT', 0, None, 0)\n",
      "(5, 'date', 'TEXT', 0, None, 0)\n",
      "(6, 'country_code', 'TEXT', 0, None, 0)\n"
     ]
    }
   ],
   "source": [
    "cursor.execute(\"PRAGMA table_info(tabela3);\")\n",
    "nova_estrutura = cursor.fetchall()\n",
    "print(\"\\nNova estrutura da tabela3:\")\n",
    "for coluna in nova_estrutura:\n",
    "    print(coluna)\n"
   ]
  },
  {
   "cell_type": "code",
   "execution_count": 11,
   "metadata": {},
   "outputs": [],
   "source": [
    "consulta_sql = '''\n",
    "SELECT\n",
    "    t1.*,    -- Todas as colunas de tabela1\n",
    "    t2.*,    -- Todas as colunas de tabela2\n",
    "    t3.*     -- Todas as colunas de tabela3\n",
    "FROM\n",
    "    tabela1 t1\n",
    "INNER JOIN\n",
    "    tabela3 t3 ON t1.country_code = t3.country_code\n",
    "INNER JOIN\n",
    "    tabela2 t2 ON t3.id = t2.id\n",
    ";\n",
    "'''"
   ]
  },
  {
   "cell_type": "code",
   "execution_count": 12,
   "metadata": {},
   "outputs": [],
   "source": [
    "cursor.execute(\"DELETE FROM tabela3 WHERE availability = 0;\")\n",
    "\n",
    "conn.commit()\n"
   ]
  },
  {
   "cell_type": "markdown",
   "metadata": {},
   "source": [
    "## Análise Exploratória de Dados (EDA)"
   ]
  },
  {
   "cell_type": "code",
   "execution_count": 13,
   "metadata": {},
   "outputs": [
    {
     "name": "stdout",
     "output_type": "stream",
     "text": [
      "\n",
      "Dados após a junção das tabelas:\n",
      "  country_code currency shoe_metric      id                    name  \\\n",
      "0           DE     euro          eu  011040         World Cup Boots   \n",
      "1           DE     euro          eu  011040  World Cup Fußballschuh   \n",
      "2           DE     euro          eu  011040         World Cup Boots   \n",
      "3           DE     euro          eu  011040  World Cup Fußballschuh   \n",
      "4           DE     euro          eu  011040         World Cup Boots   \n",
      "\n",
      "  best_for_wear gender                                          image_url  \\\n",
      "0       Stadium      U  https://assets.adidas.com/images/w_600,f_auto,...   \n",
      "1       Stadium      U  https://assets.adidas.com/images/w_600,f_auto,...   \n",
      "2       Stadium      U  https://assets.adidas.com/images/w_600,f_auto,...   \n",
      "3       Stadium      U  https://assets.adidas.com/images/w_600,f_auto,...   \n",
      "4       Stadium      U  https://assets.adidas.com/images/w_600,f_auto,...   \n",
      "\n",
      "  dominant_color      sub_color1 sub_color2      id  price        category  \\\n",
      "0          Black  Footwear White       None  011040  180.0  football-shoes   \n",
      "1          Black  Footwear White       None  011040  180.0  football-shoes   \n",
      "2          Black  Footwear White       None  011040  180.0  football-shoes   \n",
      "3          Black  Footwear White       None  011040  180.0  football-shoes   \n",
      "4          Black  Footwear White       None  011040  180.0  football-shoes   \n",
      "\n",
      "     size  availability        date country_code  \n",
      "0  39 1/3            15  07/01/2025           DE  \n",
      "1  39 1/3            15  07/01/2025           DE  \n",
      "2  39 1/3            15  08/01/2025           DE  \n",
      "3  39 1/3            15  08/01/2025           DE  \n",
      "4  39 1/3            15  09/01/2025           DE  \n"
     ]
    }
   ],
   "source": [
    "df_unido = pd.read_sql_query(consulta_sql, conn)\n",
    "\n",
    "print(\"\\nDados após a junção das tabelas:\")\n",
    "print(df_unido.head())\n",
    "\n",
    "df_unido.to_csv('output/resultado_unido.csv', index=False)\n",
    "\n",
    "conn.commit()"
   ]
  },
  {
   "cell_type": "code",
   "execution_count": 14,
   "metadata": {},
   "outputs": [
    {
     "name": "stdout",
     "output_type": "stream",
     "text": [
      "               price   availability\n",
      "count  328414.000000  328414.000000\n",
      "mean      108.479741      10.691627\n",
      "std        60.576247       5.527195\n",
      "min        16.000000       1.000000\n",
      "25%        60.000000       5.000000\n",
      "50%       100.000000      15.000000\n",
      "75%       140.000000      15.000000\n",
      "max       500.000000      15.000000\n",
      "country_code        0\n",
      "currency            0\n",
      "shoe_metric         0\n",
      "id                  0\n",
      "name                0\n",
      "best_for_wear       0\n",
      "gender              0\n",
      "image_url           0\n",
      "dominant_color      0\n",
      "sub_color1        203\n",
      "sub_color2        503\n",
      "id                  0\n",
      "price               0\n",
      "category            0\n",
      "size                0\n",
      "availability        0\n",
      "date                0\n",
      "country_code        0\n",
      "dtype: int64\n",
      "category\n",
      "running-shoes           91762\n",
      "sneakers                82441\n",
      "outdoor-shoes           45281\n",
      "walking-shoes           33964\n",
      "us/athletic_sneakers    17352\n",
      "gym_training-shoes      14999\n",
      "tennis-shoes            14623\n",
      "athletic_sneakers        8530\n",
      "us/running-shoes         4353\n",
      "football-shoes           3663\n",
      "us/walking-shoes         3368\n",
      "us/soccer-shoes          2458\n",
      "us/workout-shoes         1450\n",
      "us/hiking-shoes          1261\n",
      "occer-shoes              1243\n",
      "hiking-shoes             1220\n",
      "us/tennis-shoes           446\n",
      "Name: count, dtype: int64\n"
     ]
    }
   ],
   "source": [
    "print(df_unido.describe())\n",
    "\n",
    "print(df_unido.isnull().sum())\n",
    "\n",
    "print(df_unido['category'].value_counts())\n"
   ]
  },
  {
   "cell_type": "code",
   "execution_count": 15,
   "metadata": {},
   "outputs": [],
   "source": [
    "df_unido.dropna(subset=['sub_color1', 'sub_color2'], inplace=True)"
   ]
  },
  {
   "cell_type": "code",
   "execution_count": 16,
   "metadata": {},
   "outputs": [],
   "source": [
    "df_unido['category'] = df_unido['category'].str.replace(\"us/\", \"\", regex=False)\n",
    "\n",
    "df_unido['category'] = df_unido['category'].replace({'occer-shoes': 'soccer-shoes'})\n",
    "\n",
    "df_unido['category'] = df_unido['category'].replace({'hiking-shoes': 'outdoor-shoes'})\n"
   ]
  },
  {
   "cell_type": "code",
   "execution_count": 17,
   "metadata": {},
   "outputs": [
    {
     "data": {
      "image/png": "[encoded data removed]",
      "text/plain": [
       "<Figure size 1000x600 with 1 Axes>"
      ]
     },
     "metadata": {},
     "output_type": "display_data"
    },
    {
     "data": {
      "image/png": "[encoded data removed]",
      "text/plain": [
       "<Figure size 1200x800 with 1 Axes>"
      ]
     },
     "metadata": {},
     "output_type": "display_data"
    }
   ],
   "source": [
    "\n",
    "plt.figure(figsize=(10,6))\n",
    "sns.histplot(df_unido['price'], bins=20, kde=True)\n",
    "plt.title('Distribuição de Preços')\n",
    "plt.xlabel('Preço')\n",
    "plt.ylabel('Frequência')\n",
    "plt.show()\n",
    "\n",
    "plt.figure(figsize=(12,8))\n",
    "sns.countplot(data=df_unido, y='category', order=df_unido['category'].value_counts().index)\n",
    "plt.title('Contagem de Categorias de Calçados')\n",
    "plt.xlabel('Contagem')\n",
    "plt.ylabel('Categoria')\n",
    "plt.show()\n"
   ]
  },
  {
   "cell_type": "code",
   "execution_count": 18,
   "metadata": {},
   "outputs": [
    {
     "name": "stdout",
     "output_type": "stream",
     "text": [
      "Categoria: occer-shoes, Preço Médio: 140.68901927912825\n",
      "Categoria: us/soccer-shoes, Preço Médio: 140.08086367485183\n",
      "Categoria: us/running-shoes, Preço Médio: 131.43858267716536\n",
      "Categoria: us/tennis-shoes, Preço Médio: 131.28947368421052\n",
      "Categoria: us/workout-shoes, Preço Médio: 125.05515587529976\n",
      "Categoria: gym_training-shoes, Preço Médio: 124.85932529278058\n",
      "Categoria: running-shoes, Preço Médio: 124.68953781113433\n",
      "Categoria: outdoor-shoes, Preço Médio: 122.33739339143361\n",
      "Categoria: athletic_sneakers, Preço Médio: 121.14096774193548\n",
      "Categoria: us/athletic_sneakers, Preço Médio: 120.25527694016823\n",
      "Categoria: hiking-shoes, Preço Médio: 118.1479057591623\n",
      "Categoria: us/hiking-shoes, Preço Médio: 117.53530166880616\n",
      "Categoria: football-shoes, Preço Médio: 114.2188967136146\n",
      "Categoria: us/walking-shoes, Preço Médio: 113.67861557478368\n",
      "Categoria: tennis-shoes, Preço Médio: 110.41261261261255\n",
      "Categoria: walking-shoes, Preço Médio: 91.62129284535968\n",
      "Categoria: sneakers, Preço Médio: 69.81432017268682\n"
     ]
    }
   ],
   "source": [
    "verify_price = '''\n",
    "SELECT category, AVG(price) AS avg_price, COUNT(*) AS total_produtos\n",
    "FROM tabela3\n",
    "GROUP BY category\n",
    "ORDER BY avg_price DESC;\n",
    "'''\n",
    "\n",
    "cursor.execute(verify_price)\n",
    "\n",
    "resultados = cursor.fetchall()\n",
    "for linha in resultados:\n",
    "    print(f\"Categoria: {linha[0]}, Preço Médio: {linha[1]}\")\n",
    "\n",
    "conn.commit()"
   ]
  },
  {
   "cell_type": "code",
   "execution_count": 19,
   "metadata": {},
   "outputs": [
    {
     "name": "stdout",
     "output_type": "stream",
     "text": [
      "Categoria: sneakers, Desponibilidade: 459453\n",
      "Categoria: running-shoes, Desponibilidade: 429087\n",
      "Categoria: outdoor-shoes, Desponibilidade: 193083\n",
      "Categoria: walking-shoes, Desponibilidade: 171097\n",
      "Categoria: us/athletic_sneakers, Desponibilidade: 145453\n",
      "Categoria: tennis-shoes, Desponibilidade: 74501\n",
      "Categoria: athletic_sneakers, Desponibilidade: 72458\n",
      "Categoria: gym_training-shoes, Desponibilidade: 61426\n",
      "Categoria: us/running-shoes, Desponibilidade: 29044\n",
      "Categoria: us/soccer-shoes, Desponibilidade: 27759\n",
      "Categoria: us/walking-shoes, Desponibilidade: 26421\n",
      "Categoria: football-shoes, Desponibilidade: 18819\n",
      "Categoria: occer-shoes, Desponibilidade: 14057\n",
      "Categoria: us/hiking-shoes, Desponibilidade: 10285\n",
      "Categoria: hiking-shoes, Desponibilidade: 10185\n",
      "Categoria: us/workout-shoes, Desponibilidade: 9371\n",
      "Categoria: us/tennis-shoes, Desponibilidade: 3098\n"
     ]
    }
   ],
   "source": [
    "verify_disponibilit = '''\n",
    "SELECT category, SUM(availability) AS total_stock\n",
    "FROM tabela3\n",
    "GROUP BY category\n",
    "ORDER BY total_stock DESC;\n",
    "'''\n",
    "\n",
    "cursor.execute(verify_disponibilit)\n",
    "\n",
    "resultados = cursor.fetchall()\n",
    "for linha in resultados:\n",
    "    print(f\"Categoria: {linha[0]}, Desponibilidade: {linha[1]}\")\n",
    "\n",
    "conn.commit()"
   ]
  },
  {
   "cell_type": "code",
   "execution_count": 20,
   "metadata": {},
   "outputs": [
    {
     "name": "stdout",
     "output_type": "stream",
     "text": [
      "Categoria: sneakers, Desponibilidade: 459453\n",
      "Categoria: running-shoes, Desponibilidade: 429087\n",
      "Categoria: outdoor-shoes, Desponibilidade: 193083\n",
      "Categoria: walking-shoes, Desponibilidade: 171097\n",
      "Categoria: us/athletic_sneakers, Desponibilidade: 145453\n",
      "Categoria: tennis-shoes, Desponibilidade: 74501\n",
      "Categoria: athletic_sneakers, Desponibilidade: 72458\n",
      "Categoria: gym_training-shoes, Desponibilidade: 61426\n",
      "Categoria: us/running-shoes, Desponibilidade: 29044\n",
      "Categoria: us/soccer-shoes, Desponibilidade: 27759\n",
      "Categoria: us/walking-shoes, Desponibilidade: 26421\n",
      "Categoria: football-shoes, Desponibilidade: 18819\n",
      "Categoria: occer-shoes, Desponibilidade: 14057\n",
      "Categoria: us/hiking-shoes, Desponibilidade: 10285\n",
      "Categoria: hiking-shoes, Desponibilidade: 10185\n",
      "Categoria: us/workout-shoes, Desponibilidade: 9371\n",
      "Categoria: us/tennis-shoes, Desponibilidade: 3098\n"
     ]
    }
   ],
   "source": [
    "verify_disponibilit = '''\n",
    "SELECT category, SUM(availability) AS total_stock\n",
    "FROM tabela3\n",
    "GROUP BY category\n",
    "ORDER BY total_stock DESC;\n",
    "'''\n",
    "\n",
    "cursor.execute(verify_disponibilit)\n",
    "\n",
    "resultados = cursor.fetchall()\n",
    "for linha in resultados:\n",
    "    print(f\"Categoria: {linha[0]}, Desponibilidade: {linha[1]}\")\n",
    "\n",
    "conn.commit()"
   ]
  },
  {
   "cell_type": "code",
   "execution_count": 21,
   "metadata": {},
   "outputs": [],
   "source": [
    "df_unido = df_unido.loc[:, ~df_unido.columns.duplicated()]"
   ]
  },
  {
   "cell_type": "markdown",
   "metadata": {},
   "source": [
    "## Feature Engineering"
   ]
  },
  {
   "cell_type": "code",
   "execution_count": 22,
   "metadata": {},
   "outputs": [
    {
     "name": "stdout",
     "output_type": "stream",
     "text": [
      "270    07/01/2025\n",
      "271    07/01/2025\n",
      "272    07/01/2025\n",
      "273    08/01/2025\n",
      "274    08/01/2025\n",
      "275    08/01/2025\n",
      "276    09/01/2025\n",
      "277    09/01/2025\n",
      "278    09/01/2025\n",
      "279    10/01/2025\n",
      "280    10/01/2025\n",
      "281    10/01/2025\n",
      "282    11/01/2025\n",
      "283    11/01/2025\n",
      "284    11/01/2025\n",
      "285    12/01/2025\n",
      "286    12/01/2025\n",
      "287    12/01/2025\n",
      "288    14/01/2025\n",
      "289    14/01/2025\n",
      "Name: date, dtype: object\n",
      "['07/01/2025' '08/01/2025' '09/01/2025' '10/01/2025' '11/01/2025'\n",
      " '12/01/2025' '14/01/2025' '2025-01-15' '2025-01-16' '13/01/2025'\n",
      " '15/01/2025']\n"
     ]
    }
   ],
   "source": [
    "print(df_unido['date'].head(20))  \n",
    "print(df_unido['date'].unique())  "
   ]
  },
  {
   "cell_type": "markdown",
   "metadata": {},
   "source": [
    "### Extração de Informações da Data (date)"
   ]
  },
  {
   "cell_type": "code",
   "execution_count": 23,
   "metadata": {},
   "outputs": [
    {
     "name": "stdout",
     "output_type": "stream",
     "text": [
      "          date  mes   ano\n",
      "270 2025-07-01    7  2025\n",
      "271 2025-07-01    7  2025\n",
      "272 2025-07-01    7  2025\n",
      "273 2025-08-01    8  2025\n",
      "274 2025-08-01    8  2025\n"
     ]
    }
   ],
   "source": [
    "df_unido['date'] = pd.to_datetime(df_unido['date'], format='mixed', errors='coerce')\n",
    "\n",
    "df_unido['mes'] = df_unido['date'].dt.month\n",
    "df_unido['ano'] = df_unido['date'].dt.year\n",
    "\n",
    "print(df_unido[['date', 'mes', 'ano']].head())\n"
   ]
  },
  {
   "cell_type": "code",
   "execution_count": 24,
   "metadata": {},
   "outputs": [
    {
     "name": "stdout",
     "output_type": "stream",
     "text": [
      "0\n"
     ]
    }
   ],
   "source": [
    "print(df_unido['date'].isnull().sum())  "
   ]
  },
  {
   "cell_type": "markdown",
   "metadata": {},
   "source": [
    "### Criando Faixas de Preço (price)"
   ]
  },
  {
   "cell_type": "code",
   "execution_count": 25,
   "metadata": {},
   "outputs": [
    {
     "name": "stdout",
     "output_type": "stream",
     "text": [
      "price_range\n",
      "51-100     114725\n",
      "101-150     86013\n",
      "0-50        60096\n",
      "151-200     47275\n",
      "201-300     19191\n",
      "301+          611\n",
      "Name: count, dtype: int64\n"
     ]
    }
   ],
   "source": [
    "bins = [0, 50, 100, 150, 200, 300, 500]\n",
    "labels = ['0-50', '51-100', '101-150', '151-200', '201-300', '301+']\n",
    "df_unido['price_range'] = pd.cut(df_unido['price'], bins=bins, labels=labels)\n",
    "\n",
    "print(df_unido['price_range'].value_counts())"
   ]
  },
  {
   "cell_type": "markdown",
   "metadata": {},
   "source": [
    "### Criando Indicadores de Disponibilidade"
   ]
  },
  {
   "cell_type": "code",
   "execution_count": 26,
   "metadata": {},
   "outputs": [
    {
     "name": "stdout",
     "output_type": "stream",
     "text": [
      "     availability  in_stock\n",
      "270             6         1\n",
      "271             6         1\n",
      "272             6         1\n",
      "273             6         1\n",
      "274             6         1\n"
     ]
    }
   ],
   "source": [
    "df_unido['in_stock'] = df_unido['availability'].apply(lambda x: 1 if x > 0 else 0)\n",
    "print(df_unido[['availability', 'in_stock']].head())"
   ]
  },
  {
   "cell_type": "markdown",
   "metadata": {},
   "source": [
    "### Codificação de Variáveis Categóricas"
   ]
  },
  {
   "cell_type": "code",
   "execution_count": 27,
   "metadata": {},
   "outputs": [
    {
     "name": "stdout",
     "output_type": "stream",
     "text": [
      "<class 'pandas.core.series.Series'>\n",
      "(327911,)\n"
     ]
    }
   ],
   "source": [
    "print(type(df_unido['country_code']))  \n",
    "print(df_unido['country_code'].shape)  "
   ]
  },
  {
   "cell_type": "code",
   "execution_count": 28,
   "metadata": {},
   "outputs": [],
   "source": [
    "df_unido['country_code'] = df_unido['country_code'].squeeze()  "
   ]
  },
  {
   "cell_type": "code",
   "execution_count": 29,
   "metadata": {},
   "outputs": [
    {
     "name": "stdout",
     "output_type": "stream",
     "text": [
      "    country_code\n",
      "270           DE\n",
      "271           DE\n",
      "272           DE\n",
      "273           DE\n",
      "274           DE\n",
      "object\n",
      "(327911,)\n",
      "0\n",
      "country_code\n",
      "<class 'str'>    327911\n",
      "Name: count, dtype: int64\n"
     ]
    }
   ],
   "source": [
    "print(df_unido[['country_code']].head())  \n",
    "print(df_unido['country_code'].dtype) \n",
    "print(df_unido['country_code'].shape)  \n",
    "print(df_unido['country_code'].isnull().sum())  \n",
    "print(df_unido['country_code'].apply(type).value_counts())  "
   ]
  },
  {
   "cell_type": "code",
   "execution_count": 30,
   "metadata": {},
   "outputs": [],
   "source": [
    "df_unido = pd.get_dummies(df_unido, columns=['gender', 'price_range'], drop_first=True)"
   ]
  },
  {
   "cell_type": "markdown",
   "metadata": {},
   "source": [
    "### Criando Indicadores de Popularidade"
   ]
  },
  {
   "cell_type": "code",
   "execution_count": 31,
   "metadata": {},
   "outputs": [],
   "source": [
    "df_unido['country_code'] = df_unido['country_code'].astype(str)  \n",
    "df_unido['country_code'] = df_unido['country_code'].squeeze()    "
   ]
  },
  {
   "cell_type": "code",
   "execution_count": 32,
   "metadata": {},
   "outputs": [
    {
     "name": "stdout",
     "output_type": "stream",
     "text": [
      "0\n"
     ]
    }
   ],
   "source": [
    "print(df_unido['country_code'].isnull().sum())  "
   ]
  },
  {
   "cell_type": "code",
   "execution_count": 33,
   "metadata": {},
   "outputs": [
    {
     "name": "stdout",
     "output_type": "stream",
     "text": [
      "country_code\n",
      "<class 'str'>    327911\n",
      "Name: count, dtype: int64\n"
     ]
    }
   ],
   "source": [
    "print(df_unido['country_code'].apply(type).value_counts())  "
   ]
  },
  {
   "cell_type": "code",
   "execution_count": 34,
   "metadata": {},
   "outputs": [],
   "source": [
    "df_unido['country_code'] = df_unido['country_code'].astype(str)"
   ]
  },
  {
   "cell_type": "code",
   "execution_count": 35,
   "metadata": {},
   "outputs": [
    {
     "name": "stdout",
     "output_type": "stream",
     "text": [
      "           category  category_count country_code  country_product_count\n",
      "270  football-shoes            3363           DE                 243940\n",
      "271  football-shoes            3363           DE                 243940\n",
      "272  football-shoes            3363           DE                 243940\n",
      "273  football-shoes            3363           DE                 243940\n",
      "274  football-shoes            3363           DE                 243940\n"
     ]
    }
   ],
   "source": [
    "df_unido['category_count'] = df_unido.groupby('category')['category'].transform('count')\n",
    "df_unido['country_product_count'] = df_unido.groupby('country_code')['country_code'].transform('count')\n",
    "\n",
    "print(df_unido[['category', 'category_count', 'country_code', 'country_product_count']].head())"
   ]
  },
  {
   "cell_type": "markdown",
   "metadata": {},
   "source": [
    "### Criando Interações Entre Features"
   ]
  },
  {
   "cell_type": "code",
   "execution_count": 36,
   "metadata": {},
   "outputs": [
    {
     "name": "stdout",
     "output_type": "stream",
     "text": [
      "     price  availability  price_per_avail\n",
      "270  180.0             6        25.714286\n",
      "271  180.0             6        25.714286\n",
      "272  180.0             6        25.714286\n",
      "273  180.0             6        25.714286\n",
      "274  180.0             6        25.714286\n"
     ]
    }
   ],
   "source": [
    "df_unido['price_per_avail'] = df_unido['price'] / (df_unido['availability'] + 1)  \n",
    "print(df_unido[['price', 'availability', 'price_per_avail']].head())\n"
   ]
  },
  {
   "cell_type": "markdown",
   "metadata": {},
   "source": [
    "## Machine Learning"
   ]
  },
  {
   "cell_type": "markdown",
   "metadata": {},
   "source": [
    "### Feature Importances"
   ]
  },
  {
   "cell_type": "code",
   "execution_count": 37,
   "metadata": {},
   "outputs": [],
   "source": [
    "\n",
    "\n",
    "df_model = df_unido.copy()\n",
    "\n",
    "colunas_para_remover = ['price', 'id', 'name', 'image_url', 'date']\n",
    "X = df_model.drop(columns=colunas_para_remover)\n",
    "\n",
    "X = pd.get_dummies(X, drop_first=True)\n",
    "\n",
    "y = df_model['price']\n",
    "\n",
    "modelo = RandomForestRegressor(n_estimators=100, random_state=42)\n",
    "modelo.fit(X, y)\n",
    "\n",
    "importances = modelo.feature_importances_\n",
    "features = X.columns\n",
    "\n",
    "df_importances = pd.DataFrame({'Feature': features, 'Importance': importances})\n",
    "df_importances = df_importances.sort_values(by='Importance', ascending=False)\n"
   ]
  },
  {
   "cell_type": "code",
   "execution_count": 38,
   "metadata": {},
   "outputs": [
    {
     "data": {
      "image/png": "[encoded data removed]",
      "text/plain": [
       "<Figure size 1200x800 with 1 Axes>"
      ]
     },
     "metadata": {},
     "output_type": "display_data"
    }
   ],
   "source": [
    "\n",
    "top_n = 20\n",
    "df_top_features = df_importances.head(top_n)\n",
    "\n",
    "plt.figure(figsize=(12, 8))\n",
    "sns.barplot(x=df_top_features['Importance'], y=df_top_features['Feature'])\n",
    "plt.title(f\"Top {top_n} Features Mais Importantes\")\n",
    "plt.xlabel(\"Importância\")\n",
    "plt.ylabel(\"Feature\")\n",
    "plt.show()\n"
   ]
  },
  {
   "cell_type": "code",
   "execution_count": 39,
   "metadata": {},
   "outputs": [
    {
     "name": "stdout",
     "output_type": "stream",
     "text": [
      "Features restantes após limpeza: Index(['availability', 'mes', 'ano', 'gender_M', 'gender_U', 'gender_W',\n",
      "       'price_range_51-100', 'price_range_101-150', 'price_range_151-200',\n",
      "       'price_range_201-300',\n",
      "       ...\n",
      "       'size_M 5 / W 6', 'size_M 5.5 / W 6.5', 'size_M 6 / W 7',\n",
      "       'size_M 6.5 / W 7.5', 'size_M 7 / W 8', 'size_M 7.5 / W 8.5',\n",
      "       'size_M 8 / W 9', 'size_M 8.5 / W 9.5', 'size_M 9 / W 10',\n",
      "       'size_M 9.5 / W 10.5'],\n",
      "      dtype='object', length=861)\n"
     ]
    }
   ],
   "source": [
    "\n",
    "features_para_remover = ['in_stock', 'category_count', 'country_product_count']  \n",
    "X = X.drop(columns=features_para_remover)\n",
    "\n",
    "print(\"Features restantes após limpeza:\", X.columns)\n"
   ]
  },
  {
   "cell_type": "code",
   "execution_count": 40,
   "metadata": {},
   "outputs": [
    {
     "name": "stdout",
     "output_type": "stream",
     "text": [
      "Erro Quadrático Médio (MSE): 0.18\n",
      "Coeficiente de Determinação (R²): 1.00\n"
     ]
    }
   ],
   "source": [
    "\n",
    "X_train, X_test, y_train, y_test = train_test_split(X, y, test_size=0.2, random_state=42)\n",
    "\n",
    "modelo.fit(X_train, y_train)\n",
    "\n",
    "y_pred = modelo.predict(X_test)\n",
    "\n",
    "mse = mean_squared_error(y_test, y_pred)\n",
    "r2 = r2_score(y_test, y_pred)\n",
    "\n",
    "print(f'Erro Quadrático Médio (MSE): {mse:.2f}')\n",
    "print(f'Coeficiente de Determinação (R²): {r2:.2f}')\n"
   ]
  },
  {
   "cell_type": "markdown",
   "metadata": {},
   "source": [
    "### Transform column availability in variable binary"
   ]
  },
  {
   "cell_type": "code",
   "execution_count": 52,
   "metadata": {},
   "outputs": [],
   "source": [
    "df_unido['vai_faltar'] = df_unido['availability'].apply(lambda x: 1 if x <= 2 else 0)\n",
    "\n",
    "\n",
    "X_class = df_unido.drop(['availability', 'vai_faltar', 'id', 'name', 'image_url', 'date', 'price'], axis=1)\n",
    "y_class = df_unido['vai_faltar']\n"
   ]
  },
  {
   "cell_type": "code",
   "execution_count": 53,
   "metadata": {},
   "outputs": [
    {
     "name": "stdout",
     "output_type": "stream",
     "text": [
      "vai_faltar\n",
      "0    275785\n",
      "1     52126\n",
      "Name: count, dtype: int64\n"
     ]
    }
   ],
   "source": [
    "print(df_unido['vai_faltar'].value_counts())\n"
   ]
  },
  {
   "cell_type": "code",
   "execution_count": 54,
   "metadata": {},
   "outputs": [],
   "source": [
    "\n",
    "X_class = pd.get_dummies(X_class, drop_first=True)\n"
   ]
  },
  {
   "cell_type": "code",
   "execution_count": 57,
   "metadata": {},
   "outputs": [
    {
     "name": "stdout",
     "output_type": "stream",
     "text": [
      "Acurácia do modelo: 0.85\n",
      "              precision    recall  f1-score   support\n",
      "\n",
      "           0       0.85      1.00      0.92     55190\n",
      "           1       0.99      0.04      0.07     10393\n",
      "\n",
      "    accuracy                           0.85     65583\n",
      "   macro avg       0.92      0.52      0.49     65583\n",
      "weighted avg       0.87      0.85      0.78     65583\n",
      "\n"
     ]
    }
   ],
   "source": [
    "\n",
    "X_train_class, X_test_class, y_train_class, y_test_class = train_test_split(X_class, y_class, test_size=0.2, random_state=42)\n",
    "\n",
    "modelo_estoque = RandomForestClassifier(n_estimators=42, max_depth=10, random_state=42)\n",
    "modelo_estoque.fit(X_train_class, y_train_class)\n",
    "\n",
    "y_pred_class = modelo_estoque.predict(X_test_class)\n",
    "\n",
    "acc = accuracy_score(y_test_class, y_pred_class)\n",
    "print(f'Acurácia do modelo: {acc:.2f}')\n",
    "print(classification_report(y_test_class, y_pred_class))\n"
   ]
  }
 ],
 "metadata": {
  "kernelspec": {
   "display_name": "Python 3",
   "language": "python",
   "name": "python3"
  },
  "language_info": {
   "codemirror_mode": {
    "name": "ipython",
    "version": 3
   },
   "file_extension": ".py",
   "mimetype": "text/x-python",
   "name": "python",
   "nbconvert_exporter": "python",
   "pygments_lexer": "ipython3",
   "version": "3.10.11"
  }
 },
 "nbformat": 4,
 "nbformat_minor": 2
}
